{
 "cells": [
  {
   "cell_type": "code",
   "execution_count": null,
   "id": "4af613b2",
   "metadata": {},
   "outputs": [],
   "source": [
    "import pandas as pd\n",
    "import nltk\n",
    "from nltk.sentiment.vader import SentimentIntensityAnalyzer\n",
    "\n",
    "print(\"pandas\", pd.__version__)\n",
    "nltk.download(\"vader_lexicon\", quiet=True)\n",
    "sid = SentimentIntensityAnalyzer()\n",
    "print(sid.polarity_scores(\"I love this product\"))"
   ]
  }
 ],
 "metadata": {},
 "nbformat": 4,
 "nbformat_minor": 5
}
