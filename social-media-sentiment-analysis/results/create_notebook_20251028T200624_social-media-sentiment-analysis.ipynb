version https://git-lfs.github.com/spec/v1
oid sha256:ea3660bd0d6cc41ec834de70631412bcb38c9e8f1368bf3a03fb347383241aa6
size 1408
