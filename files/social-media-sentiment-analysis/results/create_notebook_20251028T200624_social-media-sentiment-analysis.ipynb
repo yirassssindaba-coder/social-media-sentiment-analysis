{
 "cells": [
  {
   "cell_type": "code",
   "execution_count": null,
   "id": "1c71a062",
   "metadata": {},
   "outputs": [],
   "source": [
    "import pandas as pd\n",
    "import nltk\n",
    "from nltk.sentiment.vader import SentimentIntensityAnalyzer\n",
    "import joblib\n",
    "import os\n",
    "\n",
    "print('pandas', pd.__version__)\n",
    "nltk.download('vader_lexicon', quiet=True)\n",
    "sid = SentimentIntensityAnalyzer()\n",
    "print('VADER example:', sid.polarity_scores('I love this product'))\n",
    "\n",
    "# If a trained pipeline exists, load and run a few examples\n",
    "model_path = 'social-media-sentiment-analysis/models/model_pipeline.joblib'\n",
    "if os.path.exists(model_path):\n",
    "    print('\\nLoaded model pipeline from', model_path)\n",
    "    pipe = joblib.load(model_path)\n",
    "    samples = [\n",
    "        'I absolutely love this! Highly recommend.',\n",
    "        'This is ok, nothing special.',\n",
    "        'Terrible experience, will never buy again.'\n",
    "    ]\n",
    "    preds = pipe.predict(samples)\n",
    "    for s,p in zip(samples, preds):\n",
    "        print(f'[{p}]', s)\n",
    "else:\n",
    "    print('\\nNo trained model at', model_path, '— run training pipeline to add predictions.')\n"
   ]
  }
 ],
 "metadata": {},
 "nbformat": 4,
 "nbformat_minor": 5
}
