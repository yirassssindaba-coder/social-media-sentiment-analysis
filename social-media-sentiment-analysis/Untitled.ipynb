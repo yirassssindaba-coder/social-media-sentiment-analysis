{
 "cells": [
  {
   "cell_type": "code",
   "execution_count": 1,
   "id": "941b52c0-69a0-4836-b417-41fa2e8f1bbe",
   "metadata": {},
   "outputs": [
    {
     "name": "stdout",
     "output_type": "stream",
     "text": [
      "pandas 2.3.3\n",
      "{'neg': 0.0, 'neu': 0.323, 'pos': 0.677, 'compound': 0.6369}\n"
     ]
    }
   ],
   "source": [
    "import pandas as pd\n",
    "import nltk\n",
    "from nltk.sentiment.vader import SentimentIntensityAnalyzer\n",
    "\n",
    "print('pandas', pd.__version__)\n",
    "nltk.download('vader_lexicon', quiet=True)\n",
    "sid = SentimentIntensityAnalyzer()\n",
    "print(sid.polarity_scores(\"I love this product\"))"
   ]
  },
  {
   "cell_type": "code",
   "execution_count": null,
   "id": "d9d63c76-8a2b-4222-b366-19fb89ae2710",
   "metadata": {},
   "outputs": [],
   "source": []
  }
 ],
 "metadata": {
  "kernelspec": {
   "display_name": "Python (social-media-sentiment)",
   "language": "python",
   "name": "social_media_sentiment"
  },
  "language_info": {
   "codemirror_mode": {
    "name": "ipython",
    "version": 3
   },
   "file_extension": ".py",
   "mimetype": "text/x-python",
   "name": "python",
   "nbconvert_exporter": "python",
   "pygments_lexer": "ipython3",
   "version": "3.14.0"
  }
 },
 "nbformat": 4,
 "nbformat_minor": 5
}
