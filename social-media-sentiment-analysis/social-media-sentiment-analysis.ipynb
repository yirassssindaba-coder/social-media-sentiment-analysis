{
 "cells": [
  {
   "cell_type": "markdown",
   "id": "511d1d29",
   "metadata": {},
   "source": [
    "# Social Media Sentiment — Quick Predictions\n",
    "\n",
    "This notebook attempts to load the trained pipeline and show a results table. If no trained model is found, a table with a message will be displayed so you get a clear, tabular output instead of an error message."
   ]
  },
  {
   "cell_type": "code",
   "execution_count": 1,
   "id": "1d12c046",
   "metadata": {
    "execution": {
     "iopub.execute_input": "2025-10-28T12:44:14.988004Z",
     "iopub.status.busy": "2025-10-28T12:44:14.987572Z",
     "iopub.status.idle": "2025-10-28T12:44:15.340439Z",
     "shell.execute_reply": "2025-10-28T12:44:15.339313Z"
    }
   },
   "outputs": [
    {
     "data": {
      "text/html": [
       "<div>\n",
       "<style scoped>\n",
       "    .dataframe tbody tr th:only-of-type {\n",
       "        vertical-align: middle;\n",
       "    }\n",
       "\n",
       "    .dataframe tbody tr th {\n",
       "        vertical-align: top;\n",
       "    }\n",
       "\n",
       "    .dataframe thead th {\n",
       "        text-align: right;\n",
       "    }\n",
       "</style>\n",
       "<table border=\"1\" class=\"dataframe\">\n",
       "  <thead>\n",
       "    <tr style=\"text-align: right;\">\n",
       "      <th></th>\n",
       "      <th>sample</th>\n",
       "      <th>prediction</th>\n",
       "    </tr>\n",
       "  </thead>\n",
       "  <tbody>\n",
       "    <tr>\n",
       "      <th>0</th>\n",
       "      <td>I absolutely love this! Highly recommend.</td>\n",
       "      <td>No trained model at social-media-sentiment-ana...</td>\n",
       "    </tr>\n",
       "    <tr>\n",
       "      <th>1</th>\n",
       "      <td>This is ok, nothing special.</td>\n",
       "      <td>No trained model at social-media-sentiment-ana...</td>\n",
       "    </tr>\n",
       "    <tr>\n",
       "      <th>2</th>\n",
       "      <td>Terrible experience, will never buy again.</td>\n",
       "      <td>No trained model at social-media-sentiment-ana...</td>\n",
       "    </tr>\n",
       "  </tbody>\n",
       "</table>\n",
       "</div>"
      ],
      "text/plain": [
       "                                       sample  \\\n",
       "0   I absolutely love this! Highly recommend.   \n",
       "1                This is ok, nothing special.   \n",
       "2  Terrible experience, will never buy again.   \n",
       "\n",
       "                                          prediction  \n",
       "0  No trained model at social-media-sentiment-ana...  \n",
       "1  No trained model at social-media-sentiment-ana...  \n",
       "2  No trained model at social-media-sentiment-ana...  "
      ]
     },
     "metadata": {},
     "output_type": "display_data"
    }
   ],
   "source": [
    "\n",
    "import joblib\n",
    "import pandas as pd\n",
    "from pathlib import Path\n",
    "\n",
    "MODEL_PATH = Path(\"social-media-sentiment-analysis/models/model_pipeline.joblib\")\n",
    "\n",
    "# Sample texts used for quick demonstration\n",
    "samples = [\n",
    "    \"I absolutely love this! Highly recommend.\",\n",
    "    \"This is ok, nothing special.\",\n",
    "    \"Terrible experience, will never buy again.\"\n",
    "]\n",
    "\n",
    "if MODEL_PATH.exists():\n",
    "    try:\n",
    "        pipe = joblib.load(MODEL_PATH)\n",
    "        preds = pipe.predict(samples)\n",
    "        df = pd.DataFrame({\"sample\": samples, \"prediction\": preds})\n",
    "    except Exception as e:\n",
    "        # In case loading/predicting fails, still show table with error info\n",
    "        df = pd.DataFrame({\n",
    "            \"sample\": samples,\n",
    "            \"prediction\": [f\"Error running model: {str(e)}\"] * len(samples)\n",
    "        })\n",
    "else:\n",
    "    # Model not found: show table with a clear instruction message\n",
    "    msg = (\n",
    "        \"No trained model at social-media-sentiment-analysis/models/model_pipeline.joblib \"\n",
    "        \"— run the training pipeline (e.g. python social-media-sentiment-analysis/train_quick.py) \"\n",
    "        \"to add predictions.\"\n",
    "    )\n",
    "    df = pd.DataFrame({\"sample\": samples, \"prediction\": [msg] * len(samples)})\n",
    "\n",
    "# Display the DataFrame so Jupyter renders a nice HTML table in outputs\n",
    "display(df)\n"
   ]
  },
  {
   "cell_type": "markdown",
   "id": "ef54d05b",
   "metadata": {},
   "source": [
    "Next steps:\n",
    "\n",
    "1. If you see the instruction that the model is missing, run:\n",
    "\n",
    "`python social-media-sentiment-analysis/train_quick.py`\n",
    "\n",
    "2. Then re-run this notebook or execute it in-place with nbconvert:\n",
    "\n",
    "`python -m nbconvert --to notebook --inplace --execute \"social-media-sentiment-analysis/social-media-sentiment-analysis.ipynb\" --ExecutePreprocessor.timeout=120`\n",
    "\n",
    "This notebook always produces a table as output so it's easier to verify results or see why predictions are missing."
   ]
  }
 ],
 "metadata": {
  "kernelspec": {
   "display_name": "Python 3",
   "name": "python3"
  },
  "language_info": {
   "codemirror_mode": {
    "name": "ipython",
    "version": 3
   },
   "file_extension": ".py",
   "mimetype": "text/x-python",
   "name": "python",
   "nbconvert_exporter": "python",
   "pygments_lexer": "ipython3",
   "version": "3.14.0"
  }
 },
 "nbformat": 4,
 "nbformat_minor": 5
}
