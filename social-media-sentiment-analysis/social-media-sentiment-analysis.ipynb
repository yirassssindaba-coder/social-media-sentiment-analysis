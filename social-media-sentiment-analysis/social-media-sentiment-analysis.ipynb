{
 "cells": [
  {
   "cell_type": "code",
   "execution_count": 1,
   "id": "4af613b2",
   "metadata": {
    "execution": {
     "iopub.execute_input": "2025-10-25T11:30:33.440283Z",
     "iopub.status.busy": "2025-10-25T11:30:33.439937Z",
     "iopub.status.idle": "2025-10-25T11:30:35.771588Z",
     "shell.execute_reply": "2025-10-25T11:30:35.770480Z"
    }
   },
   "outputs": [
    {
     "name": "stdout",
     "output_type": "stream",
     "text": [
      "pandas 2.3.3\n"
     ]
    },
    {
     "name": "stdout",
     "output_type": "stream",
     "text": [
      "{'neg': 0.0, 'neu': 0.323, 'pos': 0.677, 'compound': 0.6369}\n"
     ]
    }
   ],
   "source": [
    "import pandas as pd\n",
    "import nltk\n",
    "from nltk.sentiment.vader import SentimentIntensityAnalyzer\n",
    "\n",
    "print(\"pandas\", pd.__version__)\n",
    "nltk.download(\"vader_lexicon\", quiet=True)\n",
    "sid = SentimentIntensityAnalyzer()\n",
    "print(sid.polarity_scores(\"I love this product\"))"
   ]
  }
 ],
 "metadata": {
  "language_info": {
   "codemirror_mode": {
    "name": "ipython",
    "version": 3
   },
   "file_extension": ".py",
   "mimetype": "text/x-python",
   "name": "python",
   "nbconvert_exporter": "python",
   "pygments_lexer": "ipython3",
   "version": "3.14.0"
  }
 },
 "nbformat": 4,
 "nbformat_minor": 5
}
