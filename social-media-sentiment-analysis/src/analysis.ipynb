{
 "cells": [
  {
   "cell_type": "code",
   "execution_count": null,
   "id": "5275eb01",
   "metadata": {},
   "outputs": [],
   "source": [
    "import pandas as pd\n",
    "from nltk.sentiment.vader import SentimentIntensityAnalyzer\n",
    "import nltk\n",
    "\n",
    "try:\n",
    "    nltk.data.find('sentiment/vader_lexicon')\n",
    "except:\n",
    "    nltk.download('vader_lexicon')\n",
    "\n",
    "df = pd.DataFrame({'id':[1,2,3], 'text':[\"I love it\",\"Not good\",\"It's okay\"]})\n",
    "sid = SentimentIntensityAnalyzer()\n",
    "df[['neg','neu','pos','compound']] = df['text'].apply(lambda t: pd.Series(sid.polarity_scores(str(t))))\n",
    "print(df)"
   ]
  }
 ],
 "metadata": {
  "language_info": {
   "name": "python"
  }
 },
 "nbformat": 4,
 "nbformat_minor": 5
}
