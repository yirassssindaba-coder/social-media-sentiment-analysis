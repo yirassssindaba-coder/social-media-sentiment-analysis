{
 "cells": [
  {
   "cell_type": "code",
   "execution_count": 1,
   "id": "04f1e86c",
   "metadata": {
    "execution": {
     "iopub.execute_input": "2025-10-26T12:09:55.292232Z",
     "iopub.status.busy": "2025-10-26T12:09:55.291806Z",
     "iopub.status.idle": "2025-10-26T12:09:57.632414Z",
     "shell.execute_reply": "2025-10-26T12:09:57.631320Z"
    }
   },
   "outputs": [
    {
     "name": "stdout",
     "output_type": "stream",
     "text": [
      "pandas 2.3.3\n"
     ]
    },
    {
     "name": "stdout",
     "output_type": "stream",
     "text": [
      "VADER example: {'neg': 0.0, 'neu': 0.323, 'pos': 0.677, 'compound': 0.6369}\n",
      "\n",
      "No trained model at social-media-sentiment-analysis/models/model_pipeline.joblib â€” run training pipeline to add predictions.\n"
     ]
    }
   ],
   "source": [
    "import pandas as pd\n",
    "import nltk\n",
    "from nltk.sentiment.vader import SentimentIntensityAnalyzer\n",
    "import joblib\n",
    "import os\n",
    "\n",
    "print('pandas', pd.__version__)\n",
    "nltk.download('vader_lexicon', quiet=True)\n",
    "sid = SentimentIntensityAnalyzer()\n",
    "print('VADER example:', sid.polarity_scores('I love this product'))\n",
    "\n",
    "# If a trained pipeline exists, load and run a few examples\n",
    "model_path = 'social-media-sentiment-analysis/models/model_pipeline.joblib'\n",
    "if os.path.exists(model_path):\n",
    "    print('\\nLoaded model pipeline from', model_path)\n",
    "    pipe = joblib.load(model_path)\n",
    "    samples = [\n",
    "        'I absolutely love this! Highly recommend.',\n",
    "        'This is ok, nothing special.',\n",
    "        'Terrible experience, will never buy again.'\n",
    "    ]\n",
    "    preds = pipe.predict(samples)\n",
    "    for s,p in zip(samples, preds):\n",
    "        print(f'[{p}]', s)\n",
    "else:\n",
    "    print('\\nNo trained model at', model_path, 'â€” run training pipeline to add predictions.')\n"
   ]
  }
 ],
 "metadata": {
  "language_info": {
   "codemirror_mode": {
    "name": "ipython",
    "version": 3
   },
   "file_extension": ".py",
   "mimetype": "text/x-python",
   "name": "python",
   "nbconvert_exporter": "python",
   "pygments_lexer": "ipython3",
   "version": "3.14.0"
  }
 },
 "nbformat": 4,
 "nbformat_minor": 5
}
